{
 "cells": [
  {
   "cell_type": "code",
   "execution_count": null,
   "id": "30bbe957",
   "metadata": {
    "vscode": {
     "languageId": "plaintext"
    }
   },
   "outputs": [],
   "source": [
    "import pandas as pd\n",
    "\n",
    "\n",
    "file_path = \"/Users/91life/Desktop/diabetes-project/data/responses.xlsx\"\n",
    "\n",
    "df = pd.read_excel(file_path)\n",
    "\n",
    "print(\"Shape:\", df.shape)\n",
    "print(\"\\nColumns:\", df.columns)\n",
    "print(\"\\nFirst rows:\\n\", df.head())\n",
    "\n",
    "df = df.rename(columns={\n",
    "    'Gjinia': 'gender',\n",
    "    'Numri i shtatzanive': 'pregnancies',\n",
    "    'Mosha': 'age',\n",
    "    'Niveli i glukozës në gjak (plotësojeni vetëm nëse e dini)': 'glucose',\n",
    "    'Tensioni mesatar i gjakut  (plotësojeni vetëm nëse e dini)': 'blood_pressure',\n",
    "    'Pesha (kg)': 'weight',\n",
    "    'Gjatësia (cm)': 'height',\n",
    "    'Niveli i insulinës  (plotësojeni vetëm nëse e dini)': 'insulin',\n",
    "    'A jeni fizikisht aktiv?': 'physically_active',\n",
    "    'A pini duhan?': 'smoking',\n",
    "    'A konsumoni shpesh ushqime të përpunuara, të ëmbla ose me yndyrë të lartë?': 'junk_food',\n",
    "    'A keni ndonjë anëtar të familjes me diabet?': 'family_history',\n",
    "    'A jeni të diagnostifikuar me diabet nga mjeku?': 'diabetes_diagnosed'\n",
    "})\n",
    "\n",
    "df['diabetes_diagnosed'] = df['diabetes_diagnosed'].map({'Po': 1, 'Jo': 0})\n",
    "\n",
    "\n",
    "map_dict = {'Po': 1, 'Jo': 0, 'M': 1, 'F': 0}\n",
    "categorical_column = ['gender', 'physically_active', 'smoking', 'junk_food', 'family_history']\n",
    "\n",
    "for col in categorical_column:\n",
    "    df[col] = df[col].map(map_dict)\n",
    "\n",
    "\n",
    "df.to_csv(\"/Users/91life/Desktop/diabetes-project/data/cleaned_responses.csv\", index=False)\n",
    "print(\"\\nFirst rows translated:\\n\", df.head())\n",
    "\n",
    "print(\"\\nShape:\", df.shape)\n",
    "print(\"\\nColumns:\", df.columns.tolist())"
   ]
  }
 ],
 "metadata": {
  "language_info": {
   "name": "python"
  }
 },
 "nbformat": 4,
 "nbformat_minor": 5
}
